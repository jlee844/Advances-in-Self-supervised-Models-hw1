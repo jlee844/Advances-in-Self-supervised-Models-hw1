{
  "cells": [
    {
      "cell_type": "markdown",
      "metadata": {
        "id": "197VAoi68r7i"
      },
      "source": [
        "# Section 4.1 StrategyQA Classification with ModernBERT - Head-Tuned Classifier"
      ]
    },
    {
      "cell_type": "markdown",
      "metadata": {
        "id": "xgpBcyH38r7j"
      },
      "source": [
        "## Setup and Imports"
      ]
    },
    {
      "cell_type": "code",
      "execution_count": 34,
      "metadata": {
        "colab": {
          "base_uri": "https://localhost:8080/"
        },
        "id": "M4nsjJCZ8r7j",
        "outputId": "59849606-74b7-479d-fcaa-cc6fe7958d14"
      },
      "outputs": [
        {
          "output_type": "stream",
          "name": "stdout",
          "text": [
            "Using device: cuda\n"
          ]
        }
      ],
      "source": [
        "import torch\n",
        "import torch.nn as nn\n",
        "import torch.optim as optim\n",
        "from torch.utils.data import DataLoader, Dataset\n",
        "from transformers import AutoTokenizer, AutoModel, get_linear_schedule_with_warmup\n",
        "from datasets import load_dataset, DatasetDict\n",
        "import numpy as np\n",
        "import matplotlib.pyplot as plt\n",
        "import seaborn as sns\n",
        "from tqdm import tqdm\n",
        "import warnings\n",
        "from typing import Dict, List, Tuple\n",
        "from sklearn.model_selection import train_test_split\n",
        "warnings.filterwarnings('ignore')\n",
        "\n",
        "device = torch.device(\"cuda\" if torch.cuda.is_available() else \"cpu\")\n",
        "print(f\"Using device: {device}\")\n"
      ]
    },
    {
      "cell_type": "markdown",
      "metadata": {
        "id": "fSyk8bYH8r7k"
      },
      "source": [
        "## Load StrategyQA Dataset"
      ]
    },
    {
      "cell_type": "code",
      "execution_count": 35,
      "metadata": {
        "colab": {
          "base_uri": "https://localhost:8080/"
        },
        "id": "TgGR7W1q8r7k",
        "outputId": "dc810f04-3b41-4e98-ff2d-7004670daef6"
      },
      "outputs": [
        {
          "output_type": "stream",
          "name": "stdout",
          "text": [
            "Train: 1832 samples\n",
            "Validation: 229 samples\n",
            "Test: 229 samples\n"
          ]
        }
      ],
      "source": [
        "ds = load_dataset(\"wics/strategy-qa\", revision=\"refs/convert/parquet\")\n",
        "source = ds[\"test\"]\n",
        "SEED = 42\n",
        "\n",
        "questions = source['question']\n",
        "answers = source['answer']\n",
        "facts = source['facts']\n",
        "decompositions = source['decomposition']\n",
        "qids = source['qid']\n",
        "terms = source['term']\n",
        "descriptions = source['description']\n",
        "\n",
        "answer_ints = [1 if ans else 0 for ans in answers]\n",
        "\n",
        "train_indices, temp_indices = train_test_split(\n",
        "    range(len(source)),\n",
        "    test_size=0.20,\n",
        "    random_state=42,\n",
        "    stratify=answer_ints\n",
        ")\n",
        "\n",
        "temp_answer_ints = [answer_ints[i] for i in temp_indices]\n",
        "val_indices, test_indices = train_test_split(\n",
        "    temp_indices,\n",
        "    test_size=0.50,\n",
        "    random_state=42,\n",
        "    stratify=temp_answer_ints\n",
        ")\n",
        "\n",
        "def create_dataset_from_indices(indices):\n",
        "    return {\n",
        "        'question': [questions[i] for i in indices],\n",
        "        'answer': [answers[i] for i in indices],\n",
        "        'facts': [facts[i] for i in indices],\n",
        "        'decomposition': [decompositions[i] for i in indices],\n",
        "        'qid': [qids[i] for i in indices],\n",
        "        'term': [terms[i] for i in indices],\n",
        "        'description': [descriptions[i] for i in indices]\n",
        "    }\n",
        "\n",
        "train_data = create_dataset_from_indices(train_indices)\n",
        "val_data = create_dataset_from_indices(val_indices)\n",
        "test_data = create_dataset_from_indices(test_indices)\n",
        "\n",
        "\n",
        "from datasets import Dataset\n",
        "train_dataset = Dataset.from_dict(train_data)\n",
        "val_dataset = Dataset.from_dict(val_data)\n",
        "test_dataset = Dataset.from_dict(test_data)\n",
        "\n",
        "\n",
        "dataset = DatasetDict(train=train_dataset, validation=val_dataset, test=test_dataset)\n",
        "\n",
        "\n",
        "print(f\"Train: {len(dataset['train'])} samples\")\n",
        "print(f\"Validation: {len(dataset['validation'])} samples\")\n",
        "print(f\"Test: {len(dataset['test'])} samples\")\n",
        "\n",
        "max_length = 256\n",
        "\n",
        "train_dataset = dataset['train']\n",
        "val_dataset = dataset['validation']\n"
      ]
    },
    {
      "cell_type": "markdown",
      "metadata": {
        "id": "Rc5CVRnH8r7l"
      },
      "source": [
        "## Load ModernBERT Model and Tokenizer"
      ]
    },
    {
      "cell_type": "code",
      "execution_count": 36,
      "metadata": {
        "colab": {
          "base_uri": "https://localhost:8080/"
        },
        "id": "ndCHBwlB8r7l",
        "outputId": "9928acec-3984-4524-cd99-5caf1a8de436"
      },
      "outputs": [
        {
          "output_type": "stream",
          "name": "stderr",
          "text": [
            "Some weights of ModernBertForSequenceClassification were not initialized from the model checkpoint at answerdotai/ModernBERT-base and are newly initialized: ['classifier.bias', 'classifier.weight']\n",
            "You should probably TRAIN this model on a down-stream task to be able to use it for predictions and inference.\n"
          ]
        },
        {
          "output_type": "stream",
          "name": "stdout",
          "text": [
            "Model parameters: 149,606,402\n",
            "Vocabulary size: 50,280\n",
            "Frozen parameters: 149,604,864 (100.0%)\n",
            "Trainable parameters: 1,538 (0.0%)\n"
          ]
        },
        {
          "output_type": "execute_result",
          "data": {
            "text/plain": [
              "ModernBertForSequenceClassification(\n",
              "  (model): ModernBertModel(\n",
              "    (embeddings): ModernBertEmbeddings(\n",
              "      (tok_embeddings): Embedding(50368, 768, padding_idx=50283)\n",
              "      (norm): LayerNorm((768,), eps=1e-05, elementwise_affine=True)\n",
              "      (drop): Dropout(p=0.0, inplace=False)\n",
              "    )\n",
              "    (layers): ModuleList(\n",
              "      (0): ModernBertEncoderLayer(\n",
              "        (attn_norm): Identity()\n",
              "        (attn): ModernBertAttention(\n",
              "          (Wqkv): Linear(in_features=768, out_features=2304, bias=False)\n",
              "          (rotary_emb): ModernBertRotaryEmbedding()\n",
              "          (Wo): Linear(in_features=768, out_features=768, bias=False)\n",
              "          (out_drop): Identity()\n",
              "        )\n",
              "        (mlp_norm): LayerNorm((768,), eps=1e-05, elementwise_affine=True)\n",
              "        (mlp): ModernBertMLP(\n",
              "          (Wi): Linear(in_features=768, out_features=2304, bias=False)\n",
              "          (act): GELUActivation()\n",
              "          (drop): Dropout(p=0.0, inplace=False)\n",
              "          (Wo): Linear(in_features=1152, out_features=768, bias=False)\n",
              "        )\n",
              "      )\n",
              "      (1-21): 21 x ModernBertEncoderLayer(\n",
              "        (attn_norm): LayerNorm((768,), eps=1e-05, elementwise_affine=True)\n",
              "        (attn): ModernBertAttention(\n",
              "          (Wqkv): Linear(in_features=768, out_features=2304, bias=False)\n",
              "          (rotary_emb): ModernBertRotaryEmbedding()\n",
              "          (Wo): Linear(in_features=768, out_features=768, bias=False)\n",
              "          (out_drop): Identity()\n",
              "        )\n",
              "        (mlp_norm): LayerNorm((768,), eps=1e-05, elementwise_affine=True)\n",
              "        (mlp): ModernBertMLP(\n",
              "          (Wi): Linear(in_features=768, out_features=2304, bias=False)\n",
              "          (act): GELUActivation()\n",
              "          (drop): Dropout(p=0.0, inplace=False)\n",
              "          (Wo): Linear(in_features=1152, out_features=768, bias=False)\n",
              "        )\n",
              "      )\n",
              "    )\n",
              "    (final_norm): LayerNorm((768,), eps=1e-05, elementwise_affine=True)\n",
              "  )\n",
              "  (head): ModernBertPredictionHead(\n",
              "    (dense): Linear(in_features=768, out_features=768, bias=False)\n",
              "    (act): GELUActivation()\n",
              "    (norm): LayerNorm((768,), eps=1e-05, elementwise_affine=True)\n",
              "  )\n",
              "  (drop): Dropout(p=0.0, inplace=False)\n",
              "  (classifier): Linear(in_features=768, out_features=2, bias=True)\n",
              ")"
            ]
          },
          "metadata": {},
          "execution_count": 36
        }
      ],
      "source": [
        "model_name = \"answerdotai/ModernBERT-base\"\n",
        "\n",
        "tokenizer = AutoTokenizer.from_pretrained(model_name)\n",
        "\n",
        "from transformers import AutoModelForSequenceClassification\n",
        "model = AutoModelForSequenceClassification.from_pretrained(\n",
        "    model_name,\n",
        "    num_labels=2,\n",
        "    ignore_mismatched_sizes=True\n",
        ")\n",
        "\n",
        "if tokenizer.pad_token is None:\n",
        "    tokenizer.pad_token = tokenizer.eos_token\n",
        "\n",
        "print(f\"Model parameters: {sum(p.numel() for p in model.parameters()):,}\")\n",
        "print(f\"Vocabulary size: {tokenizer.vocab_size:,}\")\n",
        "\n",
        "for name, param in model.named_parameters():\n",
        "    if 'classifier' not in name:\n",
        "        param.requires_grad = False\n",
        "\n",
        "frozen_params = sum(p.numel() for p in model.parameters() if not p.requires_grad)\n",
        "total_params = sum(p.numel() for p in model.parameters())\n",
        "trainable_params = sum(p.numel() for p in model.parameters() if p.requires_grad)\n",
        "\n",
        "print(f\"Frozen parameters: {frozen_params:,} ({frozen_params/total_params*100:.1f}%)\")\n",
        "print(f\"Trainable parameters: {trainable_params:,} ({trainable_params/total_params*100:.1f}%)\")\n",
        "\n",
        "\n",
        "model = model.to(device)\n",
        "model.eval()\n",
        "\n"
      ]
    },
    {
      "cell_type": "markdown",
      "metadata": {
        "id": "Mfou4gDg8r7l"
      },
      "source": [
        "## Training Configuration"
      ]
    },
    {
      "cell_type": "code",
      "execution_count": 37,
      "metadata": {
        "id": "8kI3_xQ88r7l"
      },
      "outputs": [],
      "source": [
        "def collate_fn(batch):\n",
        "    \"\"\"\n",
        "    Collate function to tokenize and batch the data\n",
        "    \"\"\"\n",
        "    questions = [item['question'] for item in batch]\n",
        "    answers = [item['answer'] for item in batch]\n",
        "    facts = []\n",
        "    for item in batch:\n",
        "        facts.append(\" \".join(s for s in item['facts'] if isinstance(s, str)))\n",
        "\n",
        "    encoding = tokenizer(\n",
        "        questions,\n",
        "        facts,\n",
        "        truncation=True,\n",
        "        padding=True,\n",
        "        max_length=256,\n",
        "        return_tensors='pt'\n",
        "    )\n",
        "\n",
        "    labels = []\n",
        "    for answer in answers:\n",
        "        if isinstance(answer, bool):\n",
        "            label = 1 if answer else 0\n",
        "        elif isinstance(answer, str):\n",
        "            label = 1 if answer.lower() == 'yes' else 0\n",
        "        else:\n",
        "            label = 0\n",
        "        labels.append(label)\n",
        "\n",
        "    labels = torch.tensor(labels, dtype=torch.long)\n",
        "\n",
        "    return {\n",
        "        'input_ids': encoding['input_ids'],\n",
        "        'attention_mask': encoding['attention_mask'],\n",
        "        'label': labels\n",
        "    }\n",
        "\n",
        "\n",
        "BATCH_SIZE = 16\n",
        "LEARNING_RATE = 5e-5\n",
        "NUM_EPOCHS = 50\n",
        "WARMUP_STEPS = 50\n",
        "MAX_GRAD_NORM = 1.0\n",
        "\n",
        "train_loader = DataLoader(train_dataset, batch_size=BATCH_SIZE, shuffle=True, collate_fn=collate_fn)\n",
        "val_loader = DataLoader(val_dataset, batch_size=BATCH_SIZE, shuffle=False, collate_fn=collate_fn)\n",
        "\n",
        "\n",
        "optimizer = optim.AdamW(model.classifier.parameters(), lr=LEARNING_RATE, weight_decay=0.01)\n",
        "criterion = nn.CrossEntropyLoss()\n",
        "total_steps = len(train_loader) * NUM_EPOCHS\n",
        "scheduler = get_linear_schedule_with_warmup(\n",
        "    optimizer,\n",
        "    num_warmup_steps=WARMUP_STEPS,\n",
        "    num_training_steps=total_steps\n",
        ")\n"
      ]
    },
    {
      "cell_type": "markdown",
      "metadata": {
        "id": "YEzmwjIl8r7q"
      },
      "source": [
        "## Training Functions"
      ]
    },
    {
      "cell_type": "code",
      "execution_count": 38,
      "metadata": {
        "id": "ClIl5hnx8r7q"
      },
      "outputs": [],
      "source": [
        "def train_epoch(model, dataloader, optimizer, scheduler, criterion, device):\n",
        "    \"\"\"\n",
        "    Train for one epoch\n",
        "    \"\"\"\n",
        "    model.train()\n",
        "    correct = 0\n",
        "    total = 0\n",
        "\n",
        "    progress_bar = tqdm(dataloader, desc=\"Training\")\n",
        "\n",
        "    for batch in progress_bar:\n",
        "        input_ids = batch['input_ids'].to(device)\n",
        "        attention_mask = batch['attention_mask'].to(device)\n",
        "        labels = batch['label'].to(device)\n",
        "\n",
        "\n",
        "        optimizer.zero_grad()\n",
        "        outputs = model(input_ids, attention_mask)\n",
        "        logits = outputs.logits\n",
        "        loss = criterion(logits, labels)\n",
        "\n",
        "\n",
        "        loss.backward()\n",
        "        trainable_params = [p for p in model.parameters() if p.requires_grad]\n",
        "        torch.nn.utils.clip_grad_norm_(trainable_params, MAX_GRAD_NORM)\n",
        "        optimizer.step()\n",
        "        scheduler.step()\n",
        "\n",
        "\n",
        "        _, predicted = torch.max(logits.data, 1)\n",
        "        total += labels.size(0)\n",
        "        correct += (predicted == labels).sum().item()\n",
        "\n",
        "\n",
        "        progress_bar.set_postfix({\n",
        "            'Acc': f'{100 * correct / total:.2f}%'\n",
        "        })\n",
        "\n",
        "    return 100 * correct / total\n",
        "\n",
        "def evaluate(model, dataloader, criterion, device):\n",
        "    \"\"\"\n",
        "    Evaluate the model\n",
        "    \"\"\"\n",
        "    model.eval()\n",
        "    correct = 0\n",
        "    total = 0\n",
        "\n",
        "    with torch.no_grad():\n",
        "        for batch in tqdm(dataloader, desc=\"Evaluating\"):\n",
        "            input_ids = batch['input_ids'].to(device)\n",
        "            attention_mask = batch['attention_mask'].to(device)\n",
        "            labels = batch['label'].to(device)\n",
        "\n",
        "\n",
        "            outputs = model(input_ids, attention_mask)\n",
        "            logits = outputs.logits\n",
        "            loss = criterion(logits, labels)\n",
        "\n",
        "            _, predicted = torch.max(logits.data, 1)\n",
        "            total += labels.size(0)\n",
        "            correct += (predicted == labels).sum().item()\n",
        "\n",
        "    return  100 * correct / total\n"
      ]
    },
    {
      "cell_type": "markdown",
      "metadata": {
        "id": "gGkaCtJs8r7q"
      },
      "source": [
        "## Training Loop"
      ]
    },
    {
      "cell_type": "code",
      "execution_count": 39,
      "metadata": {
        "colab": {
          "base_uri": "https://localhost:8080/"
        },
        "id": "NbogZ3va8r7r",
        "outputId": "9f9333d7-c8a8-44b4-f1bb-8383b7c764df"
      },
      "outputs": [
        {
          "output_type": "stream",
          "name": "stdout",
          "text": [
            "\n",
            "Epoch 1\n"
          ]
        },
        {
          "output_type": "stream",
          "name": "stderr",
          "text": [
            "Training: 100%|██████████| 115/115 [00:03<00:00, 29.26it/s, Acc=49.67%]\n",
            "Evaluating: 100%|██████████| 15/15 [00:00<00:00, 33.13it/s]\n"
          ]
        },
        {
          "output_type": "stream",
          "name": "stdout",
          "text": [
            "Train Acc: 49.67%\n",
            "Val Acc: 48.03%\n",
            "New best validation accuracy: 48.03%\n",
            "\n",
            "Epoch 2\n"
          ]
        },
        {
          "output_type": "stream",
          "name": "stderr",
          "text": [
            "Training: 100%|██████████| 115/115 [00:03<00:00, 29.76it/s, Acc=49.34%]\n",
            "Evaluating: 100%|██████████| 15/15 [00:00<00:00, 33.39it/s]\n"
          ]
        },
        {
          "output_type": "stream",
          "name": "stdout",
          "text": [
            "Train Acc: 49.34%\n",
            "Val Acc: 48.47%\n",
            "New best validation accuracy: 48.47%\n",
            "\n",
            "Epoch 3\n"
          ]
        },
        {
          "output_type": "stream",
          "name": "stderr",
          "text": [
            "Training: 100%|██████████| 115/115 [00:03<00:00, 29.31it/s, Acc=50.49%]\n",
            "Evaluating: 100%|██████████| 15/15 [00:00<00:00, 31.53it/s]\n"
          ]
        },
        {
          "output_type": "stream",
          "name": "stdout",
          "text": [
            "Train Acc: 50.49%\n",
            "Val Acc: 46.29%\n",
            "\n",
            "Epoch 4\n"
          ]
        },
        {
          "output_type": "stream",
          "name": "stderr",
          "text": [
            "Training: 100%|██████████| 115/115 [00:03<00:00, 29.77it/s, Acc=52.13%]\n",
            "Evaluating: 100%|██████████| 15/15 [00:00<00:00, 32.67it/s]\n"
          ]
        },
        {
          "output_type": "stream",
          "name": "stdout",
          "text": [
            "Train Acc: 52.13%\n",
            "Val Acc: 46.72%\n",
            "\n",
            "Epoch 5\n"
          ]
        },
        {
          "output_type": "stream",
          "name": "stderr",
          "text": [
            "Training: 100%|██████████| 115/115 [00:03<00:00, 30.09it/s, Acc=52.02%]\n",
            "Evaluating: 100%|██████████| 15/15 [00:00<00:00, 32.77it/s]\n"
          ]
        },
        {
          "output_type": "stream",
          "name": "stdout",
          "text": [
            "Train Acc: 52.02%\n",
            "Val Acc: 46.29%\n",
            "\n",
            "Epoch 6\n"
          ]
        },
        {
          "output_type": "stream",
          "name": "stderr",
          "text": [
            "Training: 100%|██████████| 115/115 [00:03<00:00, 30.00it/s, Acc=53.55%]\n",
            "Evaluating: 100%|██████████| 15/15 [00:00<00:00, 33.53it/s]\n"
          ]
        },
        {
          "output_type": "stream",
          "name": "stdout",
          "text": [
            "Train Acc: 53.55%\n",
            "Val Acc: 49.34%\n",
            "New best validation accuracy: 49.34%\n",
            "\n",
            "Epoch 7\n"
          ]
        },
        {
          "output_type": "stream",
          "name": "stderr",
          "text": [
            "Training: 100%|██████████| 115/115 [00:03<00:00, 29.83it/s, Acc=53.33%]\n",
            "Evaluating: 100%|██████████| 15/15 [00:00<00:00, 33.74it/s]\n"
          ]
        },
        {
          "output_type": "stream",
          "name": "stdout",
          "text": [
            "Train Acc: 53.33%\n",
            "Val Acc: 50.66%\n",
            "New best validation accuracy: 50.66%\n",
            "\n",
            "Epoch 8\n"
          ]
        },
        {
          "output_type": "stream",
          "name": "stderr",
          "text": [
            "Training: 100%|██████████| 115/115 [00:03<00:00, 29.49it/s, Acc=55.19%]\n",
            "Evaluating: 100%|██████████| 15/15 [00:00<00:00, 33.33it/s]\n"
          ]
        },
        {
          "output_type": "stream",
          "name": "stdout",
          "text": [
            "Train Acc: 55.19%\n",
            "Val Acc: 49.78%\n",
            "\n",
            "Epoch 9\n"
          ]
        },
        {
          "output_type": "stream",
          "name": "stderr",
          "text": [
            "Training: 100%|██████████| 115/115 [00:03<00:00, 29.55it/s, Acc=54.48%]\n",
            "Evaluating: 100%|██████████| 15/15 [00:00<00:00, 33.40it/s]\n"
          ]
        },
        {
          "output_type": "stream",
          "name": "stdout",
          "text": [
            "Train Acc: 54.48%\n",
            "Val Acc: 51.97%\n",
            "New best validation accuracy: 51.97%\n",
            "\n",
            "Epoch 10\n"
          ]
        },
        {
          "output_type": "stream",
          "name": "stderr",
          "text": [
            "Training: 100%|██████████| 115/115 [00:03<00:00, 29.62it/s, Acc=55.13%]\n",
            "Evaluating: 100%|██████████| 15/15 [00:00<00:00, 33.28it/s]\n"
          ]
        },
        {
          "output_type": "stream",
          "name": "stdout",
          "text": [
            "Train Acc: 55.13%\n",
            "Val Acc: 50.66%\n",
            "\n",
            "Epoch 11\n"
          ]
        },
        {
          "output_type": "stream",
          "name": "stderr",
          "text": [
            "Training: 100%|██████████| 115/115 [00:03<00:00, 29.74it/s, Acc=55.19%]\n",
            "Evaluating: 100%|██████████| 15/15 [00:00<00:00, 33.79it/s]\n"
          ]
        },
        {
          "output_type": "stream",
          "name": "stdout",
          "text": [
            "Train Acc: 55.19%\n",
            "Val Acc: 51.97%\n",
            "\n",
            "Epoch 12\n"
          ]
        },
        {
          "output_type": "stream",
          "name": "stderr",
          "text": [
            "Training: 100%|██████████| 115/115 [00:03<00:00, 29.78it/s, Acc=55.68%]\n",
            "Evaluating: 100%|██████████| 15/15 [00:00<00:00, 33.15it/s]\n"
          ]
        },
        {
          "output_type": "stream",
          "name": "stdout",
          "text": [
            "Train Acc: 55.68%\n",
            "Val Acc: 53.71%\n",
            "New best validation accuracy: 53.71%\n",
            "\n",
            "Epoch 13\n"
          ]
        },
        {
          "output_type": "stream",
          "name": "stderr",
          "text": [
            "Training: 100%|██████████| 115/115 [00:03<00:00, 29.61it/s, Acc=56.60%]\n",
            "Evaluating: 100%|██████████| 15/15 [00:00<00:00, 33.13it/s]\n"
          ]
        },
        {
          "output_type": "stream",
          "name": "stdout",
          "text": [
            "Train Acc: 56.60%\n",
            "Val Acc: 53.71%\n",
            "\n",
            "Epoch 14\n"
          ]
        },
        {
          "output_type": "stream",
          "name": "stderr",
          "text": [
            "Training: 100%|██████████| 115/115 [00:03<00:00, 30.01it/s, Acc=57.04%]\n",
            "Evaluating: 100%|██████████| 15/15 [00:00<00:00, 33.10it/s]\n"
          ]
        },
        {
          "output_type": "stream",
          "name": "stdout",
          "text": [
            "Train Acc: 57.04%\n",
            "Val Acc: 53.28%\n",
            "\n",
            "Epoch 15\n"
          ]
        },
        {
          "output_type": "stream",
          "name": "stderr",
          "text": [
            "Training: 100%|██████████| 115/115 [00:03<00:00, 29.46it/s, Acc=57.64%]\n",
            "Evaluating: 100%|██████████| 15/15 [00:00<00:00, 33.57it/s]\n"
          ]
        },
        {
          "output_type": "stream",
          "name": "stdout",
          "text": [
            "Train Acc: 57.64%\n",
            "Val Acc: 53.71%\n",
            "\n",
            "Epoch 16\n"
          ]
        },
        {
          "output_type": "stream",
          "name": "stderr",
          "text": [
            "Training: 100%|██████████| 115/115 [00:03<00:00, 29.75it/s, Acc=57.81%]\n",
            "Evaluating: 100%|██████████| 15/15 [00:00<00:00, 33.87it/s]\n"
          ]
        },
        {
          "output_type": "stream",
          "name": "stdout",
          "text": [
            "Train Acc: 57.81%\n",
            "Val Acc: 52.40%\n",
            "\n",
            "Epoch 17\n"
          ]
        },
        {
          "output_type": "stream",
          "name": "stderr",
          "text": [
            "Training: 100%|██████████| 115/115 [00:03<00:00, 30.30it/s, Acc=58.52%]\n",
            "Evaluating: 100%|██████████| 15/15 [00:00<00:00, 32.91it/s]\n"
          ]
        },
        {
          "output_type": "stream",
          "name": "stdout",
          "text": [
            "Train Acc: 58.52%\n",
            "Val Acc: 52.84%\n",
            "\n",
            "Epoch 18\n"
          ]
        },
        {
          "output_type": "stream",
          "name": "stderr",
          "text": [
            "Training: 100%|██████████| 115/115 [00:03<00:00, 29.37it/s, Acc=58.41%]\n",
            "Evaluating: 100%|██████████| 15/15 [00:00<00:00, 32.83it/s]\n"
          ]
        },
        {
          "output_type": "stream",
          "name": "stdout",
          "text": [
            "Train Acc: 58.41%\n",
            "Val Acc: 53.28%\n",
            "\n",
            "Epoch 19\n"
          ]
        },
        {
          "output_type": "stream",
          "name": "stderr",
          "text": [
            "Training: 100%|██████████| 115/115 [00:03<00:00, 29.91it/s, Acc=59.39%]\n",
            "Evaluating: 100%|██████████| 15/15 [00:00<00:00, 33.49it/s]\n"
          ]
        },
        {
          "output_type": "stream",
          "name": "stdout",
          "text": [
            "Train Acc: 59.39%\n",
            "Val Acc: 52.40%\n",
            "\n",
            "Epoch 20\n"
          ]
        },
        {
          "output_type": "stream",
          "name": "stderr",
          "text": [
            "Training: 100%|██████████| 115/115 [00:03<00:00, 29.90it/s, Acc=59.55%]\n",
            "Evaluating: 100%|██████████| 15/15 [00:00<00:00, 32.77it/s]\n"
          ]
        },
        {
          "output_type": "stream",
          "name": "stdout",
          "text": [
            "Train Acc: 59.55%\n",
            "Val Acc: 53.71%\n",
            "\n",
            "Epoch 21\n"
          ]
        },
        {
          "output_type": "stream",
          "name": "stderr",
          "text": [
            "Training: 100%|██████████| 115/115 [00:03<00:00, 29.66it/s, Acc=59.33%]\n",
            "Evaluating: 100%|██████████| 15/15 [00:00<00:00, 33.84it/s]\n"
          ]
        },
        {
          "output_type": "stream",
          "name": "stdout",
          "text": [
            "Train Acc: 59.33%\n",
            "Val Acc: 53.71%\n",
            "\n",
            "Epoch 22\n"
          ]
        },
        {
          "output_type": "stream",
          "name": "stderr",
          "text": [
            "Training: 100%|██████████| 115/115 [00:03<00:00, 29.83it/s, Acc=60.37%]\n",
            "Evaluating: 100%|██████████| 15/15 [00:00<00:00, 33.11it/s]\n"
          ]
        },
        {
          "output_type": "stream",
          "name": "stdout",
          "text": [
            "Train Acc: 60.37%\n",
            "Val Acc: 52.40%\n",
            "\n",
            "Epoch 23\n"
          ]
        },
        {
          "output_type": "stream",
          "name": "stderr",
          "text": [
            "Training: 100%|██████████| 115/115 [00:03<00:00, 29.20it/s, Acc=60.04%]\n",
            "Evaluating: 100%|██████████| 15/15 [00:00<00:00, 33.56it/s]\n"
          ]
        },
        {
          "output_type": "stream",
          "name": "stdout",
          "text": [
            "Train Acc: 60.04%\n",
            "Val Acc: 53.71%\n",
            "\n",
            "Epoch 24\n"
          ]
        },
        {
          "output_type": "stream",
          "name": "stderr",
          "text": [
            "Training: 100%|██████████| 115/115 [00:03<00:00, 29.94it/s, Acc=60.64%]\n",
            "Evaluating: 100%|██████████| 15/15 [00:00<00:00, 33.97it/s]\n"
          ]
        },
        {
          "output_type": "stream",
          "name": "stdout",
          "text": [
            "Train Acc: 60.64%\n",
            "Val Acc: 53.71%\n",
            "\n",
            "Epoch 25\n"
          ]
        },
        {
          "output_type": "stream",
          "name": "stderr",
          "text": [
            "Training: 100%|██████████| 115/115 [00:03<00:00, 29.97it/s, Acc=61.63%]\n",
            "Evaluating: 100%|██████████| 15/15 [00:00<00:00, 31.79it/s]\n"
          ]
        },
        {
          "output_type": "stream",
          "name": "stdout",
          "text": [
            "Train Acc: 61.63%\n",
            "Val Acc: 53.28%\n",
            "\n",
            "Epoch 26\n"
          ]
        },
        {
          "output_type": "stream",
          "name": "stderr",
          "text": [
            "Training: 100%|██████████| 115/115 [00:03<00:00, 29.88it/s, Acc=61.30%]\n",
            "Evaluating: 100%|██████████| 15/15 [00:00<00:00, 33.54it/s]\n"
          ]
        },
        {
          "output_type": "stream",
          "name": "stdout",
          "text": [
            "Train Acc: 61.30%\n",
            "Val Acc: 55.02%\n",
            "New best validation accuracy: 55.02%\n",
            "\n",
            "Epoch 27\n"
          ]
        },
        {
          "output_type": "stream",
          "name": "stderr",
          "text": [
            "Training: 100%|██████████| 115/115 [00:03<00:00, 29.87it/s, Acc=61.68%]\n",
            "Evaluating: 100%|██████████| 15/15 [00:00<00:00, 33.97it/s]\n"
          ]
        },
        {
          "output_type": "stream",
          "name": "stdout",
          "text": [
            "Train Acc: 61.68%\n",
            "Val Acc: 55.02%\n",
            "\n",
            "Epoch 28\n"
          ]
        },
        {
          "output_type": "stream",
          "name": "stderr",
          "text": [
            "Training: 100%|██████████| 115/115 [00:03<00:00, 29.93it/s, Acc=61.57%]\n",
            "Evaluating: 100%|██████████| 15/15 [00:00<00:00, 32.05it/s]\n"
          ]
        },
        {
          "output_type": "stream",
          "name": "stdout",
          "text": [
            "Train Acc: 61.57%\n",
            "Val Acc: 54.59%\n",
            "\n",
            "Epoch 29\n"
          ]
        },
        {
          "output_type": "stream",
          "name": "stderr",
          "text": [
            "Training: 100%|██████████| 115/115 [00:03<00:00, 29.57it/s, Acc=61.57%]\n",
            "Evaluating: 100%|██████████| 15/15 [00:00<00:00, 33.30it/s]\n"
          ]
        },
        {
          "output_type": "stream",
          "name": "stdout",
          "text": [
            "Train Acc: 61.57%\n",
            "Val Acc: 55.02%\n",
            "\n",
            "Epoch 30\n"
          ]
        },
        {
          "output_type": "stream",
          "name": "stderr",
          "text": [
            "Training: 100%|██████████| 115/115 [00:03<00:00, 30.04it/s, Acc=62.39%]\n",
            "Evaluating: 100%|██████████| 15/15 [00:00<00:00, 34.15it/s]\n"
          ]
        },
        {
          "output_type": "stream",
          "name": "stdout",
          "text": [
            "Train Acc: 62.39%\n",
            "Val Acc: 55.46%\n",
            "New best validation accuracy: 55.46%\n",
            "\n",
            "Epoch 31\n"
          ]
        },
        {
          "output_type": "stream",
          "name": "stderr",
          "text": [
            "Training: 100%|██████████| 115/115 [00:03<00:00, 29.41it/s, Acc=62.17%]\n",
            "Evaluating: 100%|██████████| 15/15 [00:00<00:00, 33.32it/s]\n"
          ]
        },
        {
          "output_type": "stream",
          "name": "stdout",
          "text": [
            "Train Acc: 62.17%\n",
            "Val Acc: 55.90%\n",
            "New best validation accuracy: 55.90%\n",
            "\n",
            "Epoch 32\n"
          ]
        },
        {
          "output_type": "stream",
          "name": "stderr",
          "text": [
            "Training: 100%|██████████| 115/115 [00:03<00:00, 29.63it/s, Acc=61.95%]\n",
            "Evaluating: 100%|██████████| 15/15 [00:00<00:00, 32.71it/s]\n"
          ]
        },
        {
          "output_type": "stream",
          "name": "stdout",
          "text": [
            "Train Acc: 61.95%\n",
            "Val Acc: 55.02%\n",
            "\n",
            "Epoch 33\n"
          ]
        },
        {
          "output_type": "stream",
          "name": "stderr",
          "text": [
            "Training: 100%|██████████| 115/115 [00:03<00:00, 29.61it/s, Acc=62.17%]\n",
            "Evaluating: 100%|██████████| 15/15 [00:00<00:00, 33.74it/s]\n"
          ]
        },
        {
          "output_type": "stream",
          "name": "stdout",
          "text": [
            "Train Acc: 62.17%\n",
            "Val Acc: 55.02%\n",
            "\n",
            "Epoch 34\n"
          ]
        },
        {
          "output_type": "stream",
          "name": "stderr",
          "text": [
            "Training: 100%|██████████| 115/115 [00:03<00:00, 29.89it/s, Acc=62.34%]\n",
            "Evaluating: 100%|██████████| 15/15 [00:00<00:00, 33.91it/s]\n"
          ]
        },
        {
          "output_type": "stream",
          "name": "stdout",
          "text": [
            "Train Acc: 62.34%\n",
            "Val Acc: 55.02%\n",
            "\n",
            "Epoch 35\n"
          ]
        },
        {
          "output_type": "stream",
          "name": "stderr",
          "text": [
            "Training: 100%|██████████| 115/115 [00:03<00:00, 29.67it/s, Acc=62.55%]\n",
            "Evaluating: 100%|██████████| 15/15 [00:00<00:00, 33.17it/s]\n"
          ]
        },
        {
          "output_type": "stream",
          "name": "stdout",
          "text": [
            "Train Acc: 62.55%\n",
            "Val Acc: 55.02%\n",
            "\n",
            "Epoch 36\n"
          ]
        },
        {
          "output_type": "stream",
          "name": "stderr",
          "text": [
            "Training: 100%|██████████| 115/115 [00:03<00:00, 29.30it/s, Acc=62.55%]\n",
            "Evaluating: 100%|██████████| 15/15 [00:00<00:00, 33.32it/s]\n"
          ]
        },
        {
          "output_type": "stream",
          "name": "stdout",
          "text": [
            "Train Acc: 62.55%\n",
            "Val Acc: 55.02%\n",
            "\n",
            "Epoch 37\n"
          ]
        },
        {
          "output_type": "stream",
          "name": "stderr",
          "text": [
            "Training: 100%|██████████| 115/115 [00:03<00:00, 29.72it/s, Acc=62.34%]\n",
            "Evaluating: 100%|██████████| 15/15 [00:00<00:00, 33.75it/s]\n"
          ]
        },
        {
          "output_type": "stream",
          "name": "stdout",
          "text": [
            "Train Acc: 62.34%\n",
            "Val Acc: 54.59%\n",
            "\n",
            "Epoch 38\n"
          ]
        },
        {
          "output_type": "stream",
          "name": "stderr",
          "text": [
            "Training: 100%|██████████| 115/115 [00:03<00:00, 30.19it/s, Acc=62.72%]\n",
            "Evaluating: 100%|██████████| 15/15 [00:00<00:00, 32.84it/s]\n"
          ]
        },
        {
          "output_type": "stream",
          "name": "stdout",
          "text": [
            "Train Acc: 62.72%\n",
            "Val Acc: 55.46%\n",
            "\n",
            "Epoch 39\n"
          ]
        },
        {
          "output_type": "stream",
          "name": "stderr",
          "text": [
            "Training: 100%|██████████| 115/115 [00:03<00:00, 29.65it/s, Acc=62.61%]\n",
            "Evaluating: 100%|██████████| 15/15 [00:00<00:00, 32.62it/s]\n"
          ]
        },
        {
          "output_type": "stream",
          "name": "stdout",
          "text": [
            "Train Acc: 62.61%\n",
            "Val Acc: 54.15%\n",
            "\n",
            "Epoch 40\n"
          ]
        },
        {
          "output_type": "stream",
          "name": "stderr",
          "text": [
            "Training: 100%|██████████| 115/115 [00:03<00:00, 30.00it/s, Acc=62.88%]\n",
            "Evaluating: 100%|██████████| 15/15 [00:00<00:00, 33.83it/s]\n"
          ]
        },
        {
          "output_type": "stream",
          "name": "stdout",
          "text": [
            "Train Acc: 62.88%\n",
            "Val Acc: 54.15%\n",
            "\n",
            "Epoch 41\n"
          ]
        },
        {
          "output_type": "stream",
          "name": "stderr",
          "text": [
            "Training: 100%|██████████| 115/115 [00:03<00:00, 29.95it/s, Acc=62.83%]\n",
            "Evaluating: 100%|██████████| 15/15 [00:00<00:00, 33.25it/s]\n"
          ]
        },
        {
          "output_type": "stream",
          "name": "stdout",
          "text": [
            "Train Acc: 62.83%\n",
            "Val Acc: 54.59%\n",
            "\n",
            "Epoch 42\n"
          ]
        },
        {
          "output_type": "stream",
          "name": "stderr",
          "text": [
            "Training: 100%|██████████| 115/115 [00:03<00:00, 29.90it/s, Acc=63.05%]\n",
            "Evaluating: 100%|██████████| 15/15 [00:00<00:00, 32.96it/s]\n"
          ]
        },
        {
          "output_type": "stream",
          "name": "stdout",
          "text": [
            "Train Acc: 63.05%\n",
            "Val Acc: 54.59%\n",
            "\n",
            "Epoch 43\n"
          ]
        },
        {
          "output_type": "stream",
          "name": "stderr",
          "text": [
            "Training: 100%|██████████| 115/115 [00:03<00:00, 30.08it/s, Acc=63.05%]\n",
            "Evaluating: 100%|██████████| 15/15 [00:00<00:00, 33.77it/s]\n"
          ]
        },
        {
          "output_type": "stream",
          "name": "stdout",
          "text": [
            "Train Acc: 63.05%\n",
            "Val Acc: 54.59%\n",
            "\n",
            "Epoch 44\n"
          ]
        },
        {
          "output_type": "stream",
          "name": "stderr",
          "text": [
            "Training: 100%|██████████| 115/115 [00:03<00:00, 29.54it/s, Acc=63.54%]\n",
            "Evaluating: 100%|██████████| 15/15 [00:00<00:00, 33.16it/s]\n"
          ]
        },
        {
          "output_type": "stream",
          "name": "stdout",
          "text": [
            "Train Acc: 63.54%\n",
            "Val Acc: 54.59%\n",
            "\n",
            "Epoch 45\n"
          ]
        },
        {
          "output_type": "stream",
          "name": "stderr",
          "text": [
            "Training: 100%|██████████| 115/115 [00:03<00:00, 29.60it/s, Acc=63.21%]\n",
            "Evaluating: 100%|██████████| 15/15 [00:00<00:00, 33.68it/s]\n"
          ]
        },
        {
          "output_type": "stream",
          "name": "stdout",
          "text": [
            "Train Acc: 63.21%\n",
            "Val Acc: 54.59%\n",
            "\n",
            "Epoch 46\n"
          ]
        },
        {
          "output_type": "stream",
          "name": "stderr",
          "text": [
            "Training: 100%|██████████| 115/115 [00:03<00:00, 29.90it/s, Acc=63.21%]\n",
            "Evaluating: 100%|██████████| 15/15 [00:00<00:00, 31.88it/s]\n"
          ]
        },
        {
          "output_type": "stream",
          "name": "stdout",
          "text": [
            "Train Acc: 63.21%\n",
            "Val Acc: 54.59%\n",
            "\n",
            "Epoch 47\n"
          ]
        },
        {
          "output_type": "stream",
          "name": "stderr",
          "text": [
            "Training: 100%|██████████| 115/115 [00:03<00:00, 29.72it/s, Acc=63.59%]\n",
            "Evaluating: 100%|██████████| 15/15 [00:00<00:00, 33.94it/s]\n"
          ]
        },
        {
          "output_type": "stream",
          "name": "stdout",
          "text": [
            "Train Acc: 63.59%\n",
            "Val Acc: 55.02%\n",
            "\n",
            "Epoch 48\n"
          ]
        },
        {
          "output_type": "stream",
          "name": "stderr",
          "text": [
            "Training: 100%|██████████| 115/115 [00:03<00:00, 30.08it/s, Acc=63.37%]\n",
            "Evaluating: 100%|██████████| 15/15 [00:00<00:00, 33.90it/s]\n"
          ]
        },
        {
          "output_type": "stream",
          "name": "stdout",
          "text": [
            "Train Acc: 63.37%\n",
            "Val Acc: 54.15%\n",
            "\n",
            "Epoch 49\n"
          ]
        },
        {
          "output_type": "stream",
          "name": "stderr",
          "text": [
            "Training: 100%|██████████| 115/115 [00:03<00:00, 29.90it/s, Acc=63.43%]\n",
            "Evaluating: 100%|██████████| 15/15 [00:00<00:00, 31.84it/s]\n"
          ]
        },
        {
          "output_type": "stream",
          "name": "stdout",
          "text": [
            "Train Acc: 63.43%\n",
            "Val Acc: 54.59%\n",
            "\n",
            "Epoch 50\n"
          ]
        },
        {
          "output_type": "stream",
          "name": "stderr",
          "text": [
            "Training: 100%|██████████| 115/115 [00:03<00:00, 29.88it/s, Acc=63.32%]\n",
            "Evaluating: 100%|██████████| 15/15 [00:00<00:00, 33.95it/s]"
          ]
        },
        {
          "output_type": "stream",
          "name": "stdout",
          "text": [
            "Train Acc: 63.32%\n",
            "Val Acc: 54.59%\n",
            "\n",
            "Training completed!\n",
            "Best validation accuracy: 55.90%\n"
          ]
        },
        {
          "output_type": "stream",
          "name": "stderr",
          "text": [
            "\n"
          ]
        }
      ],
      "source": [
        "\n",
        "train_losses = []\n",
        "train_accuracies = []\n",
        "val_losses = []\n",
        "val_accuracies = []\n",
        "\n",
        "best_val_acc = 0.0\n",
        "best_model_state = None\n",
        "\n",
        "for epoch in range(NUM_EPOCHS):\n",
        "    print(f\"\\nEpoch {epoch + 1}\")\n",
        "\n",
        "    train_acc = train_epoch(\n",
        "        model, train_loader, optimizer, scheduler, criterion, device\n",
        "    )\n",
        "    val_acc = evaluate(\n",
        "        model, val_loader, criterion, device\n",
        "    )\n",
        "\n",
        "\n",
        "\n",
        "    train_accuracies.append(train_acc)\n",
        "    val_accuracies.append(val_acc)\n",
        "\n",
        "\n",
        "    print(f\"Train Acc: {train_acc:.2f}%\")\n",
        "    print(f\"Val Acc: {val_acc:.2f}%\")\n",
        "\n",
        "\n",
        "    if val_acc > best_val_acc:\n",
        "        best_val_acc = val_acc\n",
        "        best_model_state = model.state_dict().copy()\n",
        "        print(f\"New best validation accuracy: {best_val_acc:.2f}%\")\n",
        "        torch.save({\n",
        "            'epoch': epoch,\n",
        "            'model_state_dict': model.state_dict(),\n",
        "            'optimizer_state_dict': optimizer.state_dict(),\n",
        "            'val_acc': val_acc,\n",
        "        }, 'best_strategyqa_head_only.pth')\n",
        "\n",
        "print(\"\\nTraining completed!\")\n",
        "print(f\"Best validation accuracy: {best_val_acc:.2f}%\")\n"
      ]
    },
    {
      "cell_type": "markdown",
      "metadata": {
        "id": "zqKagxwL8r7r"
      },
      "source": [
        "## Test Set Evaluation"
      ]
    },
    {
      "cell_type": "code",
      "execution_count": 43,
      "metadata": {
        "colab": {
          "base_uri": "https://localhost:8080/"
        },
        "id": "czH1LFqJ8r7r",
        "outputId": "7f474fd6-40c8-49c6-c91d-9ee758c86568"
      },
      "outputs": [
        {
          "output_type": "stream",
          "name": "stdout",
          "text": [
            "Test dataset: 229 samples\n",
            "Test batches: 15\n"
          ]
        },
        {
          "output_type": "stream",
          "name": "stderr",
          "text": [
            "Evaluating: 100%|██████████| 15/15 [00:00<00:00, 30.13it/s]"
          ]
        },
        {
          "output_type": "stream",
          "name": "stdout",
          "text": [
            "\n",
            "\n",
            "Final Result\n",
            "Test Accuracy: 57.64%\n",
            "Best validation accuracy: 55.90%\n",
            "Final training accuracy: 63.32%\n",
            "Final validation accuracy: 54.59%\n"
          ]
        },
        {
          "output_type": "stream",
          "name": "stderr",
          "text": [
            "\n"
          ]
        }
      ],
      "source": [
        "\n",
        "if best_model_state is not None:\n",
        "    model.load_state_dict(best_model_state)\n",
        "else:\n",
        "\n",
        "    checkpoint = torch.load('best_strategyqa_head_only.pth', map_location=device)\n",
        "    model.load_state_dict(checkpoint['model_state_dict'])\n",
        "    print(f\"Loaded model from epoch {checkpoint['epoch']} with validation accuracy: {checkpoint['val_acc']:.2f}%\")\n",
        "\n",
        "test_dataset = dataset['test']\n",
        "test_loader = DataLoader(test_dataset, batch_size=BATCH_SIZE, shuffle=False, collate_fn=collate_fn)\n",
        "print(f\"Test dataset: {len(test_dataset)} samples\")\n",
        "print(f\"Test batches: {len(test_loader)}\")\n",
        "\n",
        "test_acc = evaluate(model, test_loader, criterion, device)\n",
        "\n",
        "print(\"\\n\")\n",
        "print(\"Final Result\")\n",
        "print(f\"Test Accuracy: {test_acc:.2f}%\")\n",
        "print(f\"Best validation accuracy: {best_val_acc:.2f}%\")\n",
        "print(f\"Final training accuracy: {train_accuracies[-1]:.2f}%\")\n",
        "print(f\"Final validation accuracy: {val_accuracies[-1]:.2f}%\")\n"
      ]
    },
    {
      "cell_type": "markdown",
      "metadata": {
        "id": "iFCgmgsT8r7r"
      },
      "source": [
        "## Plot Training Result"
      ]
    },
    {
      "cell_type": "code",
      "execution_count": 44,
      "metadata": {
        "colab": {
          "base_uri": "https://localhost:8080/",
          "height": 806
        },
        "id": "wJAm5h4F8r7r",
        "outputId": "15bc4029-6c44-42ca-895a-22b76579c4c7"
      },
      "outputs": [
        {
          "output_type": "display_data",
          "data": {
            "text/plain": [
              "<Figure size 1200x800 with 1 Axes>"
            ],
            "image/png": "[encoded data removed]"
          },
          "metadata": {}
        }
      ],
      "source": [
        "\n",
        "import matplotlib.pyplot as plt\n",
        "import os\n",
        "\n",
        "\n",
        "os.makedirs('results', exist_ok=True)\n",
        "\n",
        "\n",
        "fig, ax = plt.subplots(figsize=(12, 8))\n",
        "fig.suptitle('StrategyQA Classification Training Progress (Head-Only Fine-tuning)',\n",
        "             fontsize=16, fontweight='bold')\n",
        "\n",
        "epochs = range(1, len(train_accuracies) + 1)\n",
        "\n",
        "ax.plot(epochs, train_accuracies, linewidth=2, markersize=6, label='Train Accuracy', color='blue')\n",
        "ax.plot(epochs, val_accuracies, linewidth=2, markersize=6, label='Validation Accuracy', color='red')\n",
        "ax.set_xlabel('Epoch')\n",
        "ax.set_ylabel('Accuracy (%)')\n",
        "ax.set_title('Training and Validation Accuracy')\n",
        "ax.legend()\n",
        "ax.grid(True, alpha=0.3)\n",
        "ax.set_ylim(0, 100)\n",
        "\n",
        "fig.tight_layout()\n",
        "plot_path = 'results/strategyqa_head_only_training.png'\n",
        "fig.savefig(plot_path, dpi=300, bbox_inches='tight')\n",
        "plt.show()\n"
      ]
    },
    {
      "cell_type": "markdown",
      "metadata": {
        "id": "t3VLtE4a8r7r"
      },
      "source": [
        "## Download Plots"
      ]
    },
    {
      "cell_type": "code",
      "execution_count": 42,
      "metadata": {
        "colab": {
          "base_uri": "https://localhost:8080/",
          "height": 17
        },
        "id": "LVx9DMtQ8r7r",
        "outputId": "451dd12b-910d-4cd8-decf-e394eef3d17c"
      },
      "outputs": [
        {
          "output_type": "display_data",
          "data": {
            "text/plain": [
              "<IPython.core.display.Javascript object>"
            ],
            "application/javascript": [
              "\n",
              "    async function download(id, filename, size) {\n",
              "      if (!google.colab.kernel.accessAllowed) {\n",
              "        return;\n",
              "      }\n",
              "      const div = document.createElement('div');\n",
              "      const label = document.createElement('label');\n",
              "      label.textContent = `Downloading \"${filename}\": `;\n",
              "      div.appendChild(label);\n",
              "      const progress = document.createElement('progress');\n",
              "      progress.max = size;\n",
              "      div.appendChild(progress);\n",
              "      document.body.appendChild(div);\n",
              "\n",
              "      const buffers = [];\n",
              "      let downloaded = 0;\n",
              "\n",
              "      const channel = await google.colab.kernel.comms.open(id);\n",
              "      // Send a message to notify the kernel that we're ready.\n",
              "      channel.send({})\n",
              "\n",
              "      for await (const message of channel.messages) {\n",
              "        // Send a message to notify the kernel that we're ready.\n",
              "        channel.send({})\n",
              "        if (message.buffers) {\n",
              "          for (const buffer of message.buffers) {\n",
              "            buffers.push(buffer);\n",
              "            downloaded += buffer.byteLength;\n",
              "            progress.value = downloaded;\n",
              "          }\n",
              "        }\n",
              "      }\n",
              "      const blob = new Blob(buffers, {type: 'application/binary'});\n",
              "      const a = document.createElement('a');\n",
              "      a.href = window.URL.createObjectURL(blob);\n",
              "      a.download = filename;\n",
              "      div.appendChild(a);\n",
              "      a.click();\n",
              "      div.remove();\n",
              "    }\n",
              "  "
            ]
          },
          "metadata": {}
        },
        {
          "output_type": "display_data",
          "data": {
            "text/plain": [
              "<IPython.core.display.Javascript object>"
            ],
            "application/javascript": [
              "download(\"download_2c8d6405-475b-41c6-891e-35e823b75921\", \"strategyqa_head_only_training.png\", 183463)"
            ]
          },
          "metadata": {}
        }
      ],
      "source": [
        "\n",
        "from google.colab import files\n",
        "\n",
        "files.download('results/strategyqa_head_only_training.png')\n",
        "\n"
      ]
    },
    {
      "cell_type": "code",
      "source": [],
      "metadata": {
        "id": "Drd6soWhFes1"
      },
      "execution_count": 42,
      "outputs": []
    }
  ],
  "metadata": {
    "kernelspec": {
      "display_name": "Python 3",
      "name": "python3"
    },
    "language_info": {
      "codemirror_mode": {
        "name": "ipython",
        "version": 3
      },
      "file_extension": ".py",
      "mimetype": "text/x-python",
      "name": "python",
      "nbconvert_exporter": "python",
      "pygments_lexer": "ipython3",
      "version": "3.9.23"
    },
    "colab": {
      "provenance": [],
      "gpuType": "A100"
    },
    "accelerator": "GPU"
  },
  "nbformat": 4,
  "nbformat_minor": 0
}